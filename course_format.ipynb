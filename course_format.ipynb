{
 "cells": [
  {
   "cell_type": "markdown",
   "metadata": {
    "tags": [
     "s1",
     "content"
    ]
   },
   "source": [
    "Problem Statement\n",
    "A company Alpha solutions provides fraud detection products, solutions and services to financial businesses. One such financial client has many credit card transactions that are provided as the training data. They want the Financial Data Scientist to build models using the available training data.\n",
    "\n",
    "<img src=\"../images/bayesian_network.png\", style=\"width: 800px;\">\n",
    "\n",
    "Ingest the data into a format that is easy for analysis.\n",
    "Perform Exploratory Data Analysis on the dataset.\n",
    "Perform classification on the dataset to detect fraud ( logistic regression, naive bayes classifier etc)."
   ]
  },
  {
   "cell_type": "code",
   "execution_count": 1,
   "metadata": {
    "tags": [
     "s1",
     "ce"
    ]
   },
   "outputs": [
    {
     "name": "stdout",
     "output_type": "stream",
     "text": [
      "   S  A  F  J  G\n",
      "0  0  2  1  0  1\n",
      "1  0  0  1  0  1\n",
      "2  0  2  1  0  1\n",
      "3  0  1  1  0  1\n",
      "4  0  2  0  1  1\n"
     ]
    },
    {
     "data": {
      "text/plain": [
       "<seaborn.axisgrid.FacetGrid at 0x7fb6a027b898>"
      ]
     },
     "execution_count": 1,
     "metadata": {},
     "output_type": "execute_result"
    },
    {
     "data": {
      "image/png": "[encoded data removed]",
      "text/plain": [
       "<matplotlib.figure.Figure at 0x7fb68fa03da0>"
      ]
     },
     "metadata": {},
     "output_type": "display_data"
    },
    {
     "data": {
      "image/png": "[encoded data removed]",
      "text/plain": [
       "<matplotlib.figure.Figure at 0x7fb6900caba8>"
      ]
     },
     "metadata": {},
     "output_type": "display_data"
    },
    {
     "data": {
      "image/png": "[encoded data removed]",
      "text/plain": [
       "<matplotlib.figure.Figure at 0x7fb69004e940>"
      ]
     },
     "metadata": {},
     "output_type": "display_data"
    },
    {
     "name": "stdout",
     "output_type": "stream",
     "text": [
      "\n",
      "Your assertion block throws error: name 'stoic' is not defined\n"
     ]
    }
   ],
   "source": [
    "#some initial code here, to help start the user.\n",
    "\n",
    "import pandas as pd\n",
    "import seaborn as sns\n",
    "import matplotlib.pyplot as plt\n",
    "import statsmodels.formula.api as sm\n",
    "\n",
    "fraud_data = pd.read_csv(\"https://raw.githubusercontent.com/colaberry/data/master/Fraud/fraud_data.csv\")\n",
    "sns.set()\n",
    "\n",
    "# this is the answer block, always use the code cell.\n",
    "import pandas as pd\n",
    "import seaborn as sns\n",
    "import matplotlib.pyplot as plt\n",
    "\n",
    "import statsmodels.formula.api as sm\n",
    "\n",
    "fraud_data = pd.read_csv(\"https://raw.githubusercontent.com/colaberry/data/master/Fraud/fraud_data.csv\")\n",
    "sns.set()\n",
    "sns.set(style=\"whitegrid\",color_codes=True)\n",
    "print(fraud_data.head())\n",
    "\n",
    "df = pd.DataFrame(fraud_data)\n",
    "\n",
    "\n",
    "sns.distplot(fraud_data[fraud_data['F'].notnull()].F)\n",
    "\n",
    "#plt.xlabel(\"Fraud\")\n",
    "#plt.ylabel(\"\")\n",
    "\n",
    "#sns.distplot(fraud_data['F'])\n",
    "#sns.distplot(fraud_data['S'])\n",
    "#sns.distplot(fraud_data['G'])\n",
    "#sns.distplot(fraud_data['J'])\n",
    "#sns.distplot(fraud_data['A'])\n",
    "\n",
    "def jf(x):\n",
    "    \n",
    "    if(x):\n",
    "        if(x<30):\n",
    "            return 0.0001\n",
    "        elif( x>30 and x< 50):\n",
    "            return  0.0004\n",
    "        elif(x>50):\n",
    "            return 0.0002\n",
    "    else:\n",
    "        if(x<30):\n",
    "            return 0.0005\n",
    "        elif( x>30 and x< 50):\n",
    "            return  0.0002\n",
    "        elif(x>50):\n",
    "            return 0.0001\n",
    "def gf(x):\n",
    "    if(x):\n",
    "        return 0.2\n",
    "    else:\n",
    "        return 0.01\n",
    "\n",
    "        \n",
    "fraud_data['PJewelery'] = fraud_data['A'].apply(jf)\n",
    "\n",
    "\n",
    "sns.factorplot(x=\"PJewelery\", y=\"A\", hue=\"S\", data=fraud_data,\n",
    "                             size=5, kind = \"bar\", palette=\"muted\")\n",
    "\n",
    "fraud_data['PGas'] = fraud_data['F'].apply(gf)\n",
    "\n",
    "\n",
    "sns.factorplot(x=\"PGas\", y=\"F\", hue=\"S\", data=fraud_data,\n",
    "                             size=5, kind = \"bar\", palette=\"muted\")\n",
    "\n",
    "# write your code here."
   ]
  },
  {
   "cell_type": "markdown",
   "metadata": {
    "tags": [
     "s1",
     "hint"
    ]
   },
   "source": [
    "sns.distplot(fraud_data[fraud_data['F'].notnull()].F)"
   ]
  },
  {
   "cell_type": "code",
   "execution_count": null,
   "metadata": {
    "collapsed": true,
    "tags": [
     "s1",
     "ans"
    ]
   },
   "outputs": [],
   "source": [
    "# this is the answer block, always use the code cell.\n",
    "import pandas as pd\n",
    "import seaborn as sns\n",
    "import matplotlib.pyplot as plt\n",
    "\n",
    "import statsmodels.formula.api as sm\n",
    "\n",
    "fraud_data = pd.read_csv(\"https://raw.githubusercontent.com/colaberry/data/master/Fraud/fraud_data.csv\")\n",
    "sns.set()\n",
    "sns.set(style=\"whitegrid\",color_codes=True)\n",
    "print(fraud_data.head())\n",
    "\n",
    "df = pd.DataFrame(fraud_data)\n",
    "\n",
    "c =0\n",
    "sns.distplot(fraud_data[fraud_data['F'].notnull()].F)\n",
    "\n",
    "\n",
    "\n",
    "def jf(x):\n",
    "    \n",
    "    if(x):\n",
    "        if(x<30):\n",
    "            return 0.0001\n",
    "        elif( x>30 and x< 50):\n",
    "            return  0.0004\n",
    "        elif(x>50):\n",
    "            return 0.0002\n",
    "    else:\n",
    "        if(x<30):\n",
    "            return 0.0005\n",
    "        elif( x>30 and x< 50):\n",
    "            return  0.0002\n",
    "        elif(x>50):\n",
    "            return 0.0001\n",
    "def gf(x):\n",
    "    if(x):\n",
    "        return 0.2\n",
    "    else:\n",
    "        return 0.01\n",
    "\n",
    "    try:\n",
    "        \n",
    "        fraud_data['PJewelery'] = fraud_data['A'].apply(jf)\n",
    "        sns.factorplot(x=\"PJewelery\", y=\"A\", hue=\"S\", data=fraud_data,\n",
    "                             size=5, kind = \"bar\", palette=\"muted\")\n",
    "\n",
    "        fraud_data['PGas'] = fraud_data['F'].apply(gf)\n",
    "\n",
    "\n",
    "        sns.factorplot(x=\"PGas\", y=\"F\", hue=\"S\", data=fraud_data,\n",
    "                             size=5, kind = \"bar\", palette=\"muted\")\n",
    "        c = 1\n",
    "    except(Exception e):\n",
    "        c = 0\n",
    "\n",
    "\n",
    "\n"
   ]
  },
  {
   "cell_type": "code",
   "execution_count": 5,
   "metadata": {
    "tags": [
     "s1",
     "hid"
    ]
   },
   "outputs": [
    {
     "name": "stdout",
     "output_type": "stream",
     "text": [
      "The answer did not pass the test.\n"
     ]
    }
   ],
   "source": [
    "#this is assertion block which verifies the solution.\n",
    "\n",
    "try:\n",
    "    def verify_answer():\n",
    "        \"\"\"\n",
    "        enter your verification code here.\n",
    "        return true if your checks pass\n",
    "        eg: \n",
    "        if above_user_answer_var > 100: \n",
    "            return True\n",
    "        else:\n",
    "            return False\n",
    "        \"\"\"\n",
    "        if c == 1:\n",
    "            return True\n",
    "        else:\n",
    "            return False\n",
    "\n",
    "    ref_assert_var = verify_answer()\n",
    "except Exception as e: \n",
    "    print('Your assertion block throws error: ' + str(e))\n",
    "else:\n",
    "    if ref_assert_var:\n",
    "        print('continue')\n",
    "    else:\n",
    "        print('The answer did not pass the test.')"
   ]
  },
  {
   "cell_type": "markdown",
   "metadata": {
    "tags": [
     "s2",
     "content"
    ]
   },
   "source": [
    "import os\n",
    "import pandas as pd\n",
    "import seaborn as sns\n",
    "import matplotlib.pyplot as plt\n",
    "import statsmodels.formula.api as sm"
   ]
  },
  {
   "cell_type": "code",
   "execution_count": null,
   "metadata": {
    "collapsed": true,
    "tags": [
     "s2",
     "ce"
    ]
   },
   "outputs": [],
   "source": [
    "# your code starts here..\n",
    "sns.set(style=\"whitegrid\",color_codes=True)\n",
    "print(fraud_data.head())\n",
    "\n",
    "df = pd.DataFrame(fraud_data)\n",
    "\n",
    "\n",
    "sns.distplot(fraud_data[fraud_data['F'].notnull()].F)\n",
    "\n",
    "#plt.xlabel(\"Fraud\")\n",
    "#plt.ylabel(\"\")\n",
    "\n",
    "#sns.distplot(fraud_data['F'])\n",
    "#sns.distplot(fraud_data['S'])\n",
    "#sns.distplot(fraud_data['G'])\n",
    "#sns.distplot(fraud_data['J'])\n",
    "#sns.distplot(fraud_data['A'])\n",
    "\n",
    "def jf(x):\n",
    "    \n",
    "    if(x):\n",
    "        if(x<30):\n",
    "            return 0.0001\n",
    "        elif( x>30 and x< 50):\n",
    "            return  0.0004\n",
    "        elif(x>50):\n",
    "            return 0.0002\n",
    "    else:\n",
    "        if(x<30):\n",
    "            return 0.0005\n",
    "        elif( x>30 and x< 50):\n",
    "            return  0.0002\n",
    "        elif(x>50):\n",
    "            return 0.0001\n",
    "def gf(x):\n",
    "    if(x):\n",
    "        return 0.2\n",
    "    else:\n",
    "        return 0.01\n",
    "\n",
    "        \n",
    "fraud_data['PJewelery'] = fraud_data['A'].apply(jf)\n",
    "\n",
    "\n",
    "sns.factorplot(x=\"PJewelery\", y=\"A\", hue=\"S\", data=fraud_data,\n",
    "                             size=5, kind = \"bar\", palette=\"muted\")\n",
    "\n",
    "fraud_data['PGas'] = fraud_data['F'].apply(gf)\n",
    "\n",
    "\n",
    "sns.factorplot(x=\"PGas\", y=\"F\", hue=\"S\", data=fraud_data,\n",
    "                             size=5, kind = \"bar\", palette=\"muted\")\n"
   ]
  },
  {
   "cell_type": "markdown",
   "metadata": {
    "tags": [
     "s2",
     "hint"
    ]
   },
   "source": [
    "Use 'import' statement followed by 'os' module."
   ]
  },
  {
   "cell_type": "code",
   "execution_count": 8,
   "metadata": {
    "collapsed": true,
    "tags": [
     "s2",
     "ans"
    ]
   },
   "outputs": [],
   "source": [
    "import os\n",
    "import pandas as pd\n",
    "import seaborn as sns\n",
    "import matplotlib.pyplot as plt\n",
    "import statsmodels.formula.api as sm"
   ]
  }
 ],
 "metadata": {
  "executed_sections": [],
  "kernelspec": {
   "display_name": "Python 3",
   "language": "python",
   "name": "python3"
  },
  "language_info": {
   "codemirror_mode": {
    "name": "ipython",
    "version": 3
   },
   "file_extension": ".py",
   "mimetype": "text/x-python",
   "name": "python",
   "nbconvert_exporter": "python",
   "pygments_lexer": "ipython3",
   "version": "3.5.2"
  }
 },
 "nbformat": 4,
 "nbformat_minor": 2
}